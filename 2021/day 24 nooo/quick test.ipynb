{
 "cells": [
  {
   "cell_type": "code",
   "execution_count": 2,
   "metadata": {},
   "outputs": [],
   "source": [
    "# read input\n",
    "with open('input.txt') as f:\n",
    "    lines = [s.rstrip() for s in f.readlines()]\n",
    "    inputs = []\n",
    "    for i in range(len(lines)):\n",
    "        if 'inp' in lines[i]:\n",
    "            inputs.append(i)"
   ]
  },
  {
   "cell_type": "code",
   "execution_count": 3,
   "metadata": {},
   "outputs": [],
   "source": [
    "def validate(num: list):\n",
    "    # later make the vals start with values from parmater\n",
    "    vals = {'x': 0, 'y': 0, 'z': 0, 'w': 0}\n",
    "    inp_idx = 0\n",
    "\n",
    "    # later change the idx to go from parameter to len(lines)\n",
    "    for idx in range(0, len(lines)):\n",
    "        s = lines[idx]\n",
    "        func = s[:3]\n",
    "        a = s[4]\n",
    "        b = None\n",
    "        if func != 'inp':\n",
    "            b = s[6:]\n",
    "            if b in vals:\n",
    "                b = vals[b]\n",
    "            else:\n",
    "                b = int(b)\n",
    "        # parse and evaluate\n",
    "        if func == 'inp':\n",
    "            vals[a] = num[inp_idx]\n",
    "            inp_idx += 1\n",
    "        elif func == 'add':\n",
    "            vals[a] += b\n",
    "        elif func == 'mul':\n",
    "            vals[a] *= b\n",
    "        elif func == 'div':\n",
    "            vals[a] = int(vals[a]/b)\n",
    "        elif func == 'mod':\n",
    "            vals[a] %= b\n",
    "        elif func == 'eql':\n",
    "            vals[a] = 1 if vals[a] == b else 0\n",
    "        # print(vals)\n",
    "    return vals['z']\n",
    "\n",
    "def change(num: list, step: int):\n",
    "    i = -1\n",
    "    num[i] += step\n",
    "    while num[i] % 10 == 0:\n",
    "        num[i] = 9 if step == -1 else 1\n",
    "        i -= 1\n",
    "        num[i] += step\n",
    "    return num\n"
   ]
  },
  {
   "cell_type": "code",
   "execution_count": 4,
   "metadata": {},
   "outputs": [
    {
     "data": {
      "text/plain": [
       "115186"
      ]
     },
     "execution_count": 4,
     "metadata": {},
     "output_type": "execute_result"
    }
   ],
   "source": [
    "guess = '11111591111111'\n",
    "guess = [int(x) for x in guess]\n",
    "validate(guess)"
   ]
  }
 ],
 "metadata": {
  "interpreter": {
   "hash": "35791121a5e1b03b67a80742a679c2c36f334fff3fc11ce197d2f684e036cd73"
  },
  "kernelspec": {
   "display_name": "Python 3.9.0 64-bit",
   "language": "python",
   "name": "python3"
  },
  "language_info": {
   "codemirror_mode": {
    "name": "ipython",
    "version": 3
   },
   "file_extension": ".py",
   "mimetype": "text/x-python",
   "name": "python",
   "nbconvert_exporter": "python",
   "pygments_lexer": "ipython3",
   "version": "3.9.0"
  },
  "orig_nbformat": 4
 },
 "nbformat": 4,
 "nbformat_minor": 2
}
